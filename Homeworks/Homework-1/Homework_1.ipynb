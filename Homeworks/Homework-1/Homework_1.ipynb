{
 "cells": [
  {
   "cell_type": "markdown",
   "metadata": {},
   "source": [
    "**Homework 1** - Completed by [Mahesh Kumaar Balaji](mbalaji@scu.edu)."
   ]
  },
  {
   "cell_type": "code",
   "execution_count": 1,
   "metadata": {},
   "outputs": [],
   "source": [
    "import numpy as np # type: ignore\n",
    "\n",
    "a = np.array([3, 1, 5, 6, 2, 0])\n",
    "b = np.array([6, 4, -1])\n",
    "c = np.array([2, 4, 3, 6, -1, 2])\n",
    "d = np.array([5, 2, 3, 1])\n",
    "e = np.array([3, -2, 1, 4])\n",
    "f = np.array([2, 1, 3, 5, 7, -2])"
   ]
  },
  {
   "cell_type": "code",
   "execution_count": 2,
   "metadata": {},
   "outputs": [
    {
     "name": "stdout",
     "output_type": "stream",
     "text": [
      "Initializing matrices\n",
      "A =  [[3 1 5]\n",
      " [6 2 0]]\n",
      "B =  [[ 6]\n",
      " [ 4]\n",
      " [-1]]\n",
      "C =  [[ 2  4]\n",
      " [ 3  6]\n",
      " [-1  2]]\n",
      "D =  [[5 2]\n",
      " [3 1]]\n",
      "E =  [[ 3 -2]\n",
      " [ 1  4]]\n",
      "F =  [[ 2  1  3]\n",
      " [ 5  7 -2]]\n",
      "\n"
     ]
    }
   ],
   "source": [
    "print('Initializing matrices')\n",
    "a = a.reshape(2, 3)\n",
    "print('A = ', a)\n",
    "\n",
    "b = b.reshape(3, 1)\n",
    "print('B = ', b)\n",
    "\n",
    "c = c.reshape(3, 2)\n",
    "print('C = ', c)\n",
    "\n",
    "d = d.reshape(2, 2)\n",
    "print('D = ', d)\n",
    "\n",
    "e = e.reshape(2, 2)\n",
    "print('E = ', e)\n",
    "\n",
    "f = f.reshape(2, 3)\n",
    "print('F = ', f)\n",
    "\n",
    "print('')"
   ]
  },
  {
   "cell_type": "code",
   "execution_count": 3,
   "metadata": {},
   "outputs": [
    {
     "name": "stdout",
     "output_type": "stream",
     "text": [
      "Question - 1\n",
      "A + F =  [[ 5  2  8]\n",
      " [11  9 -2]]\n",
      "\n"
     ]
    }
   ],
   "source": [
    "print('Question - 1')\n",
    "if a.shape == f.shape:\n",
    "    aplusf = a + f\n",
    "    print('A + F = ', aplusf)\n",
    "else:\n",
    "    print('A + F = Invalid')\n",
    "\n",
    "print('')"
   ]
  },
  {
   "cell_type": "code",
   "execution_count": 4,
   "metadata": {},
   "outputs": [
    {
     "name": "stdout",
     "output_type": "stream",
     "text": [
      "Question - 2\n",
      "E - D =  [[-2 -4]\n",
      " [-2  3]]\n",
      "\n"
     ]
    }
   ],
   "source": [
    "print('Question - 2')\n",
    "if e.shape == d.shape:\n",
    "    eminusd = e - d\n",
    "    print('E - D = ', eminusd)\n",
    "else:\n",
    "    print('E - D = Invalid')\n",
    "\n",
    "print('')"
   ]
  },
  {
   "cell_type": "code",
   "execution_count": 5,
   "metadata": {},
   "outputs": [
    {
     "name": "stdout",
     "output_type": "stream",
     "text": [
      "Question - 3\n",
      "C + B = Invalid\n",
      "\n"
     ]
    }
   ],
   "source": [
    "print('Question - 3')\n",
    "if c.shape == b.shape:\n",
    "    cplusb = c + b\n",
    "    print('C + B = ', cplusb)\n",
    "else:\n",
    "    print('C + B = Invalid')\n",
    "\n",
    "print('')"
   ]
  },
  {
   "cell_type": "code",
   "execution_count": 6,
   "metadata": {},
   "outputs": [
    {
     "name": "stdout",
     "output_type": "stream",
     "text": [
      "Question - 4\n",
      "C(D) =  [[22  8]\n",
      " [33 12]\n",
      " [ 1  0]]\n",
      "\n"
     ]
    }
   ],
   "source": [
    "print('Question - 4')\n",
    "(c_row, c_col) = c.shape\n",
    "(d_row, d_col) = d.shape\n",
    "if c_col == d_row:\n",
    "    cintod = np.dot(c, d)\n",
    "    print('C(D) = ', cintod)\n",
    "else:\n",
    "    print('C(D) = Invalid')\n",
    "\n",
    "print('')"
   ]
  },
  {
   "cell_type": "code",
   "execution_count": 7,
   "metadata": {},
   "outputs": [
    {
     "name": "stdout",
     "output_type": "stream",
     "text": [
      "Question - 5\n",
      "A(F) = Invalid\n",
      "\n"
     ]
    }
   ],
   "source": [
    "print('Question - 5')\n",
    "(a_row, a_col) = a.shape\n",
    "(f_row, f_col) = f.shape\n",
    "if a_col == f_row:\n",
    "    aintof = np.dot(a, f)\n",
    "    print('A(F) = ', aintof)\n",
    "else:\n",
    "    print('A(F) = Invalid')\n",
    "\n",
    "print('')"
   ]
  },
  {
   "cell_type": "code",
   "execution_count": 8,
   "metadata": {},
   "outputs": [
    {
     "name": "stdout",
     "output_type": "stream",
     "text": [
      "Question - 6\n",
      "C^T =  [[ 2  3 -1]\n",
      " [ 4  6  2]]\n",
      "\n"
     ]
    }
   ],
   "source": [
    "print('Question - 6')\n",
    "ct = c.transpose()\n",
    "print('C^T = ', ct)\n",
    "\n",
    "print('')"
   ]
  },
  {
   "cell_type": "code",
   "execution_count": 9,
   "metadata": {},
   "outputs": [
    {
     "name": "stdout",
     "output_type": "stream",
     "text": [
      "Question - 7\n",
      "F^T(E) =  [[ 11  16]\n",
      " [ 10  26]\n",
      " [  7 -14]]\n"
     ]
    }
   ],
   "source": [
    "print('Question - 7')\n",
    "ft = f.transpose()\n",
    "(ft_row, ft_col) = ft.shape\n",
    "(e_row, e_col) = e.shape\n",
    "if ft_col == e_row:\n",
    "    ftintoe = np.dot(ft, e)\n",
    "    print('F^T(E) = ', ftintoe)\n",
    "else:\n",
    "    print('F^T(E) = Invalid')"
   ]
  }
 ],
 "metadata": {
  "kernelspec": {
   "display_name": "Python 3",
   "language": "python",
   "name": "python3"
  },
  "language_info": {
   "codemirror_mode": {
    "name": "ipython",
    "version": 3
   },
   "file_extension": ".py",
   "mimetype": "text/x-python",
   "name": "python",
   "nbconvert_exporter": "python",
   "pygments_lexer": "ipython3",
   "version": "3.12.1"
  }
 },
 "nbformat": 4,
 "nbformat_minor": 2
}
