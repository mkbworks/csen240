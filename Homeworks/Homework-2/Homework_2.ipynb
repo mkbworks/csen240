{
  "cells": [
    {
      "cell_type": "markdown",
      "metadata": {
        "id": "cjrA-sMaOBFT"
      },
      "source": [
        "**Homework 2** - Completed by [Mahesh Kumaar Balaji](mbalaji@scu.edu)."
      ]
    },
    {
      "cell_type": "code",
      "execution_count": 1,
      "metadata": {
        "colab": {
          "base_uri": "https://localhost:8080/"
        },
        "id": "sTqhprggulix",
        "outputId": "81cc3dd5-9a27-4319-8e82-760ea8f8a194"
      },
      "outputs": [],
      "source": [
        "import numpy as np # type: ignore"
      ]
    },
    {
      "cell_type": "code",
      "execution_count": 2,
      "metadata": {},
      "outputs": [],
      "source": [
        "\"\"\"\n",
        "Function to determine if data array contains only distinct values.\n",
        "\"\"\"\n",
        "def test_distinct(data):\n",
        "  my_set = set(data)\n",
        "  return len(my_set) == len(data)"
      ]
    },
    {
      "cell_type": "code",
      "execution_count": 3,
      "metadata": {},
      "outputs": [],
      "source": [
        "\"\"\"\n",
        "Function to return a list of all indices in the numpy array containing the element zero.\n",
        "\"\"\"\n",
        "def zero_index(arr):\n",
        "  (x, ) = np.where(arr == 0)\n",
        "  return x"
      ]
    },
    {
      "cell_type": "code",
      "execution_count": 4,
      "metadata": {},
      "outputs": [],
      "source": [
        "\"\"\"\n",
        "Function to compute the MSE for the given values.\n",
        "\"\"\"\n",
        "def compute_mse():\n",
        "  w = np.array([[0.25], [0.75]])\n",
        "  x = np.array([[100], [200], [300], [400], [500]])\n",
        "  y = np.array([[65], [155], [220], [310], [370]])\n",
        "  predictions = w[0, 0] + x * w[1, 0]\n",
        "  mse = np.mean(np.square(predictions - y))\n",
        "  return mse"
      ]
    },
    {
      "cell_type": "code",
      "execution_count": 5,
      "metadata": {},
      "outputs": [
        {
          "name": "stdout",
          "output_type": "stream",
          "text": [
            "True\n",
            "False\n",
            "[1 3 5]\n",
            "MSE = 55.5625\n"
          ]
        }
      ],
      "source": [
        "print(test_distinct([1, 5, 7, 9]))\n",
        "print(test_distinct([2, 4, 5, 5, 7, 9]))\n",
        "print(zero_index(np.array([1, 0, 2, 0, 3, 0, 4, 5, 6, 7, 8])))\n",
        "print('MSE =', compute_mse())"
      ]
    }
  ],
  "metadata": {
    "colab": {
      "provenance": []
    },
    "kernelspec": {
      "display_name": "Python 3",
      "name": "python3"
    },
    "language_info": {
      "codemirror_mode": {
        "name": "ipython",
        "version": 3
      },
      "file_extension": ".py",
      "mimetype": "text/x-python",
      "name": "python",
      "nbconvert_exporter": "python",
      "pygments_lexer": "ipython3",
      "version": "3.12.1"
    }
  },
  "nbformat": 4,
  "nbformat_minor": 0
}
