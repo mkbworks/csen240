{
 "cells": [
  {
   "cell_type": "markdown",
   "metadata": {},
   "source": [
    "Homework 3 - Completed by [Mahesh Kumaar Balaji](mbalaji@scu.edu)."
   ]
  },
  {
   "cell_type": "code",
   "execution_count": 72,
   "metadata": {},
   "outputs": [],
   "source": [
    "# Initialization Section\n",
    "\n",
    "from sympy import symbols, diff, solve, E, Sum, lambdify\n",
    "import matplotlib.pyplot as plt\n",
    "import numpy as np\n",
    "\n",
    "x, y = symbols('x y')"
   ]
  },
  {
   "cell_type": "markdown",
   "metadata": {},
   "source": [
    "**Question 1**  \n",
    "\n",
    "Find the derivative of the function f(x) = 5 * (x + 47)<sup>2</sup>."
   ]
  },
  {
   "cell_type": "code",
   "execution_count": null,
   "metadata": {},
   "outputs": [],
   "source": [
    "f = 5 * ((x + 47) ** 2)\n",
    "dfdx = diff(f, x)\n",
    "print(f\"f'(x) = {dfdx}\")"
   ]
  },
  {
   "cell_type": "markdown",
   "metadata": {},
   "source": [
    "**Question 2**\n",
    "\n",
    "Determine the minimum and maximum of the function f(x) = 3x<sup>3</sup> + 15x<sup>2</sup>. Then sketch it."
   ]
  },
  {
   "cell_type": "code",
   "execution_count": null,
   "metadata": {},
   "outputs": [],
   "source": [
    "f = (3 * (x ** 3)) + (15 * (x ** 2))\n",
    "dfdx = diff(f, x)\n",
    "print(f\"First derivative f'(x) = {dfdx}\")\n",
    "critical_points = solve(dfdx, x)\n",
    "print(f\"The critical points obtained by solving f'(x) = 0 is {critical_points}\")\n",
    "ddfdx = diff(dfdx, x)\n",
    "print(f\"Second derivative f''(x) = {ddfdx}\")\n",
    "for point in critical_points:\n",
    "    nature = \"\"\n",
    "    if ddfdx.subs(x, point) > 0:\n",
    "        nature = \"minimum\"\n",
    "        print(f\"Point (x = {point}) is a local minimum.\")\n",
    "    else:\n",
    "        nature = \"maximum\"\n",
    "        print(f\"Point (x = {point}) is a local maximum.\")\n",
    "    value = f.subs(x, point)\n",
    "    if nature == \"minimum\":\n",
    "        print(f\"Minimum value for function f(x) = {value}\")\n",
    "    else:\n",
    "        print(f\"Maximum value for function f(x) = {value}\")\n",
    "\n",
    "f_one = lambdify(x, f, modules='numpy')\n",
    "x_vals = np.linspace(-6, 2, 500)\n",
    "y_vals = f_one(x_vals)\n",
    "plt.plot(x_vals, y_vals, label=\"f(x) = 3x^3 + 15x^2\")\n",
    "plt.axhline(0, color='black', linewidth=0.5, linestyle='--')\n",
    "plt.axvline(0, color='black', linewidth=0.5, linestyle='--')\n",
    "critical_y = [f_one(x) for x in critical_points]\n",
    "plt.scatter(critical_points, critical_y, color='red', label='Critical Points')\n",
    "plt.title(\"Function and Critical Points\")\n",
    "plt.xlabel(\"x\")\n",
    "plt.ylabel(\"f(x)\")\n",
    "plt.legend()\n",
    "plt.grid()\n",
    "plt.show()"
   ]
  },
  {
   "cell_type": "markdown",
   "metadata": {},
   "source": [
    "Find the partial derivatives with respect to x and y, for the functions \n",
    "\n",
    "**Question 3**\n",
    "f(x, y) = 3*x + 4*y\n",
    "\n",
    "**Question 4**\n",
    "f(x, y) = xy<sup>3</sup> + x<sup>2</sup>y<sup>2</sup>\n",
    "\n",
    "**Question 5**\n",
    "f(x, y) = x<sup>3</sup>y + e<sup>x</sup>\n",
    "\n",
    "**Question 6**\n",
    "f(x, y) = xe<sup>(2*x + 3*y)</sup>\n"
   ]
  },
  {
   "cell_type": "code",
   "execution_count": null,
   "metadata": {},
   "outputs": [],
   "source": [
    "f = 3*x + 4*y\n",
    "pf_x = diff(f, x)\n",
    "pf_y = diff(f, y)\n",
    "\n",
    "print(\"Question 3:\")\n",
    "print(f\"Partial derivative of function f with respect to x is {pf_x}\")\n",
    "print(f\"Partial derivative of function f with respect to y is {pf_y}\")"
   ]
  },
  {
   "cell_type": "code",
   "execution_count": null,
   "metadata": {},
   "outputs": [],
   "source": [
    "f = (x * (y ** 3)) + ((x ** 2) * (y ** 2))\n",
    "pf_x = diff(f, x)\n",
    "pf_y = diff(f, y)\n",
    "\n",
    "print(\"Question 4:\")\n",
    "print(f\"Partial derivative of function f with respect to x is {pf_x}\")\n",
    "print(f\"Partial derivative of function f with respect to y is {pf_y}\")"
   ]
  },
  {
   "cell_type": "code",
   "execution_count": null,
   "metadata": {},
   "outputs": [],
   "source": [
    "f = ((x ** 3) * y) + (E ** x)\n",
    "pf_x = diff(f, x)\n",
    "pf_y = diff(f, y)\n",
    "\n",
    "print(\"Question 5:\")\n",
    "print(f\"Partial derivative of function f with respect to x is {pf_x}\")\n",
    "print(f\"Partial derivative of function f with respect to y is {pf_y}\")"
   ]
  },
  {
   "cell_type": "code",
   "execution_count": null,
   "metadata": {},
   "outputs": [],
   "source": [
    "f = (x * (E ** (2*x + 3*y)))\n",
    "pf_x = diff(f, x)\n",
    "pf_y = diff(f, y)\n",
    "\n",
    "print(\"Question 6:\")\n",
    "print(f\"Partial derivative of function f with respect to x is {pf_x}\")\n",
    "print(f\"Partial derivative of function f with respect to y is {pf_y}\")"
   ]
  },
  {
   "cell_type": "markdown",
   "metadata": {},
   "source": [
    "**Question 7**\n",
    "\n",
    "![Question 7](Question-7.png)"
   ]
  },
  {
   "cell_type": "code",
   "execution_count": null,
   "metadata": {},
   "outputs": [],
   "source": [
    "w0, w1 = symbols('w0 w1')\n",
    "m = symbols('m')\n",
    "f = (1 / (2 * m)) * Sum((w0 + w1*x - y) ** 2, (x, 1, m))\n",
    "pfw0 = diff(f, w0)\n",
    "pfw1 = diff(f, w1)\n",
    "\n",
    "print(f\"Partial derivative of function with respect to w0 = {pfw0}\")\n",
    "print(f\"Partial derivative of function with respect to w1 = {pfw1}\")"
   ]
  },
  {
   "cell_type": "markdown",
   "metadata": {},
   "source": [
    "**Question 8**\n",
    "\n",
    "Find the derivative of the function f(x) = 1/(1 + e<sup>-x</sup>)"
   ]
  },
  {
   "cell_type": "code",
   "execution_count": null,
   "metadata": {},
   "outputs": [],
   "source": [
    "f = 1/(1 + (E ** (-1 * x)))\n",
    "dfdx = diff(f, x)\n",
    "print(f\"f'(x) = {dfdx}\")"
   ]
  }
 ],
 "metadata": {
  "kernelspec": {
   "display_name": "mlforge",
   "language": "python",
   "name": "python3"
  },
  "language_info": {
   "codemirror_mode": {
    "name": "ipython",
    "version": 3
   },
   "file_extension": ".py",
   "mimetype": "text/x-python",
   "name": "python",
   "nbconvert_exporter": "python",
   "pygments_lexer": "ipython3",
   "version": "3.13.1"
  }
 },
 "nbformat": 4,
 "nbformat_minor": 2
}
