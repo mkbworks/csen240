{
 "cells": [
  {
   "cell_type": "code",
   "execution_count": 48,
   "metadata": {},
   "outputs": [],
   "source": [
    "import pandas as pd\n",
    "import matplotlib.pyplot as plt"
   ]
  },
  {
   "cell_type": "code",
   "execution_count": 49,
   "metadata": {},
   "outputs": [],
   "source": [
    "def compute_cost(x, y, w, b):\n",
    "    m = x.shape[0]\n",
    "    cost = float(0)\n",
    "    for i in range(m):\n",
    "        y_hat = (w * x[i]) + b\n",
    "        cost += (y_hat - y[i]) ** 2\n",
    "    cost = cost / (2 * m)\n",
    "    print(f\"cost = {cost}\")\n",
    "    return cost"
   ]
  },
  {
   "cell_type": "code",
   "execution_count": 50,
   "metadata": {},
   "outputs": [],
   "source": [
    "def compute_gradient(x, y, w, b):\n",
    "    m = x.shape[0]\n",
    "    dj_dw = dj_db = float(0)\n",
    "    for i in range(m):\n",
    "        y_hat = (w * x[i]) + b\n",
    "        dj_dw_i = (y_hat - y[i]) * x[i]\n",
    "        dj_db_i = (y_hat - y[i]) \n",
    "        dj_dw += dj_dw_i\n",
    "        dj_db += dj_db_i\n",
    "    dj_dw = dj_dw / m\n",
    "    dj_db = dj_db / m\n",
    "    print(f\"m = {m}, dj_dw = {dj_dw}\")\n",
    "    print(f\"dj_db = {dj_db}\")\n",
    "    return dj_dw, dj_db"
   ]
  },
  {
   "cell_type": "code",
   "execution_count": null,
   "metadata": {},
   "outputs": [],
   "source": [
    "td = pd.read_csv(\"training_data.csv\")\n",
    "tds = td.head(10)\n",
    "xi = tds['Square_Footage'].to_numpy(dtype='float')\n",
    "yi = tds['Price'].to_numpy(dtype='float')\n",
    "print(f\"xi = {xi}\")\n",
    "print(f\"yi = {yi}\")\n",
    "print(f\"m = {xi.shape[0]}\")"
   ]
  },
  {
   "cell_type": "code",
   "execution_count": null,
   "metadata": {},
   "outputs": [],
   "source": [
    "plt.plot(xi, yi, label='Price vs Square Footage')\n",
    "plt.title(\"Price Estimation - Training data\")\n",
    "plt.xlabel(\"Square Footage\")\n",
    "plt.ylabel(\"Price (in $)\")\n",
    "plt.grid()\n",
    "plt.show()"
   ]
  },
  {
   "cell_type": "code",
   "execution_count": null,
   "metadata": {},
   "outputs": [],
   "source": [
    "w = b = float(0)\n",
    "EPOCH = 100\n",
    "alpha = 0.01\n",
    "wbs = list()\n",
    "jwbs = list()\n",
    "for i in range(1, EPOCH + 1):\n",
    "    dj_dw, dj_db = compute_gradient(xi, yi, w, b)\n",
    "    w = w - (alpha * dj_dw)\n",
    "    b = b - (alpha * dj_db)\n",
    "    cost = compute_cost(xi, yi, w, b)\n",
    "    wbs.append((w, b))\n",
    "    jwbs.append(cost)\n",
    "    if i % 1000 == 0:\n",
    "        print(f\"At end of iteration {i} :: Cost is {cost} :: Model parameters are {(w, b)}\")"
   ]
  },
  {
   "cell_type": "code",
   "execution_count": null,
   "metadata": {},
   "outputs": [],
   "source": [
    "plt.plot(wbs, jwbs, label=\"Cost vs model parameters\")\n",
    "plt.xlabel(\"Model parameters - (w, b)\")\n",
    "plt.ylabel(\"Cost function for linear regression\")\n",
    "plt.grid()\n",
    "plt.show()"
   ]
  }
 ],
 "metadata": {
  "kernelspec": {
   "display_name": "mlforge",
   "language": "python",
   "name": "python3"
  },
  "language_info": {
   "codemirror_mode": {
    "name": "ipython",
    "version": 3
   },
   "file_extension": ".py",
   "mimetype": "text/x-python",
   "name": "python",
   "nbconvert_exporter": "python",
   "pygments_lexer": "ipython3",
   "version": "3.13.1"
  }
 },
 "nbformat": 4,
 "nbformat_minor": 2
}
