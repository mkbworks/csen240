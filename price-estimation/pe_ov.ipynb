{
 "cells": [
  {
   "cell_type": "code",
   "execution_count": 15,
   "metadata": {},
   "outputs": [],
   "source": [
    "import numpy as np\n",
    "import matplotlib.pyplot as plt\n",
    "import math\n",
    "from data_processing import DataProcessing"
   ]
  },
  {
   "cell_type": "code",
   "execution_count": 16,
   "metadata": {},
   "outputs": [],
   "source": [
    "def compute_cost(x, y, w, b):\n",
    "    m = x.shape[0]\n",
    "    cost = float(0)\n",
    "    for i in range(m):\n",
    "        y_hat = (w * x[i]) + b\n",
    "        cost += (y_hat - y[i]) ** 2\n",
    "    cost = cost / (2 * m)\n",
    "    return cost"
   ]
  },
  {
   "cell_type": "code",
   "execution_count": 17,
   "metadata": {},
   "outputs": [],
   "source": [
    "def compute_gradient(x, y, w, b):\n",
    "    m = x.shape[0]\n",
    "    dj_dw = dj_db = float(0)\n",
    "    for i in range(m):\n",
    "        y_hat = (w * x[i]) + b\n",
    "        dj_dw_i = (y_hat - y[i]) * x[i]\n",
    "        dj_db_i = (y_hat - y[i]) \n",
    "        dj_dw += dj_dw_i\n",
    "        dj_db += dj_db_i\n",
    "    dj_dw = dj_dw / m\n",
    "    dj_db = dj_db / m\n",
    "    return dj_dw, dj_db"
   ]
  },
  {
   "cell_type": "code",
   "execution_count": null,
   "metadata": {},
   "outputs": [],
   "source": [
    "dp = DataProcessing(\"housing-prices.csv\")\n",
    "xi, yi = dp.get_training_data()\n",
    "w = b = float(0)\n",
    "alpha = 0.002\n",
    "epoch = 10000\n",
    "print(f\"m = {xi.shape[0]}\")\n",
    "print(f\"w = {w}\")\n",
    "print(f\"b = {b}\")\n",
    "print(f\"alpha = {alpha}\")\n",
    "print(f\"Number of iterations = {epoch}\")"
   ]
  },
  {
   "cell_type": "code",
   "execution_count": null,
   "metadata": {},
   "outputs": [],
   "source": [
    "fig, ax = plt.subplots()\n",
    "ax.scatter(xi, yi, c='r')\n",
    "ax.set_title(\"Price Estimation - Training data\")\n",
    "ax.set_xlabel(\"Square Footage\")\n",
    "ax.set_ylabel(\"Price (in $)\")\n",
    "ax.grid()"
   ]
  },
  {
   "cell_type": "code",
   "execution_count": null,
   "metadata": {},
   "outputs": [],
   "source": [
    "ws = np.empty(0, dtype='float')\n",
    "bs = np.empty(0, dtype='float')\n",
    "jwbs = np.empty(0, dtype='float')\n",
    "w_final = b_final = cost_final = float(0)\n",
    "for i in range(1, epoch + 1):\n",
    "    dj_dw, dj_db = compute_gradient(xi, yi, w, b)\n",
    "    w = w - (alpha * dj_dw)\n",
    "    b = b - (alpha * dj_db)\n",
    "    cost = compute_cost(xi, yi, w, b)\n",
    "    ws = np.append(ws, w)\n",
    "    bs = np.append(bs, b)\n",
    "    jwbs = np.append(jwbs, cost)\n",
    "    if i % (math.floor(epoch / 10)) == 0:\n",
    "        print(f\"Iteration {i} :: Cost = {cost} :: dj_dw = {dj_dw} :: dj_db = {dj_db} :: w = {float(w)} :: b = {float(b)}\")\n",
    "    \n",
    "    if i == epoch:\n",
    "        w_final = w\n",
    "        b_final = b\n",
    "        cost_final = cost\n",
    "\n",
    "print(f\"Minimum cost = {cost_final} at (w, b) = ({w_final}, {b_final})\")"
   ]
  }
 ],
 "metadata": {
  "kernelspec": {
   "display_name": "mlforge",
   "language": "python",
   "name": "python3"
  },
  "language_info": {
   "codemirror_mode": {
    "name": "ipython",
    "version": 3
   },
   "file_extension": ".py",
   "mimetype": "text/x-python",
   "name": "python",
   "nbconvert_exporter": "python",
   "pygments_lexer": "ipython3",
   "version": "3.13.1"
  }
 },
 "nbformat": 4,
 "nbformat_minor": 2
}
