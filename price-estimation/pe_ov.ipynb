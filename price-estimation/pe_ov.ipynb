{
 "cells": [
  {
   "cell_type": "code",
   "execution_count": 1,
   "metadata": {},
   "outputs": [],
   "source": [
    "import pandas as pd\n",
    "import matplotlib.pyplot as plt\n",
    "import math"
   ]
  },
  {
   "cell_type": "code",
   "execution_count": null,
   "metadata": {},
   "outputs": [],
   "source": [
    "def get_training_data(mode):\n",
    "    if mode == 0:\n",
    "        xi = np.array([1, 2], dtype='float')\n",
    "        yi = np.array([300, 500], dtype='float')\n",
    "        w = float(0)\n",
    "        b = float(0)\n",
    "        return xi, yi, w, b\n",
    "    else:\n",
    "        td = pd.read_csv(\"data.csv\")\n",
    "        tds = td.head(10)\n",
    "        xi = tds['Square_Footage'].to_numpy(dtype='float')\n",
    "        yi = tds['Price'].to_numpy(dtype='float')\n",
    "        w = float(1500)\n",
    "        b = float(350000)\n",
    "        return xi, yi, w, b"
   ]
  },
  {
   "cell_type": "code",
   "execution_count": 49,
   "metadata": {},
   "outputs": [],
   "source": [
    "def compute_cost(x, y, w, b):\n",
    "    m = x.shape[0]\n",
    "    cost = float(0)\n",
    "    for i in range(m):\n",
    "        y_hat = (w * x[i]) + b\n",
    "        cost += (y_hat - y[i]) ** 2\n",
    "    cost = cost / (2 * m)\n",
    "    print(f\"cost = {cost}\")\n",
    "    return cost"
   ]
  },
  {
   "cell_type": "code",
   "execution_count": 50,
   "metadata": {},
   "outputs": [],
   "source": [
    "def compute_gradient(x, y, w, b):\n",
    "    m = x.shape[0]\n",
    "    dj_dw = dj_db = float(0)\n",
    "    for i in range(m):\n",
    "        y_hat = (w * x[i]) + b\n",
    "        dj_dw_i = (y_hat - y[i]) * x[i]\n",
    "        dj_db_i = (y_hat - y[i]) \n",
    "        dj_dw += dj_dw_i\n",
    "        dj_db += dj_db_i\n",
    "    dj_dw = dj_dw / m\n",
    "    dj_db = dj_db / m\n",
    "    return dj_dw, dj_db"
   ]
  },
  {
   "cell_type": "code",
   "execution_count": null,
   "metadata": {},
   "outputs": [],
   "source": [
    "xi, yi, w, b = get_training_data(0)  \n",
    "print(f\"xi = {xi}\")\n",
    "print(f\"yi = {yi}\")\n",
    "print(f\"m = {xi.shape[0]}\")\n",
    "print(f\"w = {w}\")\n",
    "print(f\"b = {b}\")"
   ]
  },
  {
   "cell_type": "code",
   "execution_count": null,
   "metadata": {},
   "outputs": [],
   "source": [
    "plt.plot(xi, yi, label='Price vs Square Footage')\n",
    "plt.title(\"Price Estimation - Training data\")\n",
    "plt.xlabel(\"Square Footage\")\n",
    "plt.ylabel(\"Price (in $)\")\n",
    "plt.grid()\n",
    "plt.show()"
   ]
  },
  {
   "cell_type": "code",
   "execution_count": null,
   "metadata": {},
   "outputs": [],
   "source": [
    "EPOCH = 10000\n",
    "alpha = 0.01\n",
    "wbs = list()\n",
    "jwbs = list()\n",
    "for i in range(1, EPOCH + 1):\n",
    "    dj_dw, dj_db = compute_gradient(xi, yi, w, b)\n",
    "    w = w - (alpha * dj_dw)\n",
    "    b = b - (alpha * dj_db)\n",
    "    cost = compute_cost(xi, yi, w, b)\n",
    "    wbs.append((w, b))\n",
    "    jwbs.append(cost)\n",
    "    if i % (math.floor(EPOCH / 10)) == 0:\n",
    "        print(f\"Iteration {i} :: Cost = {cost} :: dj_dw = {dj_dw} :: dj_db = {dj_db} :: w = {float(w)} :: b = {float(b)}\")"
   ]
  },
  {
   "cell_type": "code",
   "execution_count": null,
   "metadata": {},
   "outputs": [],
   "source": [
    "plt.plot(wbs[:100], jwbs[:100], label=\"Cost vs model parameters\")\n",
    "plt.xlabel(\"Model parameters - (w, b)\")\n",
    "plt.ylabel(\"Cost function for linear regression\")\n",
    "plt.grid()\n",
    "plt.show()"
   ]
  }
 ],
 "metadata": {
  "kernelspec": {
   "display_name": "mlforge",
   "language": "python",
   "name": "python3"
  },
  "language_info": {
   "codemirror_mode": {
    "name": "ipython",
    "version": 3
   },
   "file_extension": ".py",
   "mimetype": "text/x-python",
   "name": "python",
   "nbconvert_exporter": "python",
   "pygments_lexer": "ipython3",
   "version": "3.13.1"
  }
 },
 "nbformat": 4,
 "nbformat_minor": 2
}
