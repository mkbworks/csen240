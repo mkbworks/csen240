{
 "cells": [
  {
   "cell_type": "code",
   "execution_count": 3,
   "metadata": {},
   "outputs": [],
   "source": [
    "import numpy as np\n",
    "import pandas as pd\n",
    "from data_processing import DataProcessing"
   ]
  },
  {
   "cell_type": "code",
   "execution_count": null,
   "metadata": {},
   "outputs": [],
   "source": [
    "def compute_cost(x, y, w, b):\n",
    "    m = x.shape[0]\n",
    "    y_hat = np.dot(x, w)\n",
    "    y_hat = y_hat + b\n",
    "    diff = np.square(y_hat - y)\n",
    "    cost = np.mean(diff)\n",
    "    cost = cost / 2\n",
    "    return cost"
   ]
  },
  {
   "cell_type": "code",
   "execution_count": null,
   "metadata": {},
   "outputs": [],
   "source": [
    "def compute_gradient(x, y, w, b):\n",
    "    m = x.shape[0]\n",
    "    y_hat = np.dot(x, w)\n",
    "    y_hat = y_hat + b\n",
    "    diff = y_hat - y\n",
    "    dj_db = np.mean(diff)\n",
    "    dj_dw = np.dot(x.T, diff)\n",
    "    dj_dw = (1 / m) * dj_dw\n",
    "    return dj_dw, dj_db"
   ]
  },
  {
   "cell_type": "code",
   "execution_count": 4,
   "metadata": {},
   "outputs": [
    {
     "name": "stdout",
     "output_type": "stream",
     "text": [
      "m = 436\n",
      "n = 4\n",
      "alpha = 5e-05\n",
      "Number of iterations = 10000\n",
      "W = [0. 0. 0. 0.]\n",
      "b = 0.0\n"
     ]
    }
   ],
   "source": [
    "dp = DataProcessing()\n",
    "xi, yi = dp.get_training_data(\"ML_HP_MF\")\n",
    "(m, n) = xi.shape\n",
    "alpha = 0.00005\n",
    "epoch = 10000\n",
    "w = np.random.randn(n)\n",
    "b = np.random.randn()\n",
    "print(f\"m = {m}\")\n",
    "print(f\"n = {n}\")\n",
    "print(f\"alpha = {alpha}\")\n",
    "print(f\"Number of iterations = {epoch}\")\n",
    "print(f\"w = {w}\")\n",
    "print(f\"b = {b}\")"
   ]
  }
 ],
 "metadata": {
  "kernelspec": {
   "display_name": "mlforge",
   "language": "python",
   "name": "python3"
  },
  "language_info": {
   "codemirror_mode": {
    "name": "ipython",
    "version": 3
   },
   "file_extension": ".py",
   "mimetype": "text/x-python",
   "name": "python",
   "nbconvert_exporter": "python",
   "pygments_lexer": "ipython3",
   "version": "3.13.1"
  }
 },
 "nbformat": 4,
 "nbformat_minor": 2
}
