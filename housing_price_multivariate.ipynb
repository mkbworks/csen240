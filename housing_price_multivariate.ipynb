{
 "cells": [
  {
   "metadata": {},
   "cell_type": "markdown",
   "source": [
    "### Housing Price Estimation\n",
    "\n",
    "Here, we will train a machine learning model to predict housing price based on the below given features. We will use multivariate linear regression to train the model.\n",
    "- **Feature**: Area of house (measured in square foot), Number of bedrooms, Number of bathrooms, Number of stories in the building, Number of parking spaces.\n",
    "- **Target**: Price of the house (in $)\n",
    "\n",
    "The feature values will be normalized using `z-score normalization`.\n",
    "We will follow the `90-10` rule for segregating the dataset into training and validation sets i.e., 90% of the data will be used for training the model and 10% of the dataset will be used for validating the trained model."
   ],
   "id": "69d668aae932c61a"
  },
  {
   "metadata": {
    "ExecuteTime": {
     "end_time": "2025-02-06T07:14:52.920930Z",
     "start_time": "2025-02-06T07:14:52.524131Z"
    }
   },
   "cell_type": "code",
   "source": [
    "import pandas as pd\n",
    "import math\n",
    "import matplotlib.pyplot as plt\n",
    "import numpy as np\n",
    "from models import LinearRegression\n",
    "from utils import Normalization"
   ],
   "id": "bf0d5d66fe1db12f",
   "outputs": [],
   "execution_count": 1
  },
  {
   "metadata": {},
   "cell_type": "markdown",
   "source": "The `prepare_data()` function fetches the data from the CSV file, transforms feature columns with string values into numbers using `One-Hot encoding`, and then converts them into the input feature matrix.",
   "id": "1f5ee0f82c5c7b01"
  },
  {
   "metadata": {
    "ExecuteTime": {
     "end_time": "2025-02-06T07:14:52.927213Z",
     "start_time": "2025-02-06T07:14:52.923551Z"
    }
   },
   "cell_type": "code",
   "source": [
    "def prepare_data():\n",
    "    df = pd.read_csv('./datasets/housing.csv')\n",
    "    df = pd.get_dummies(df, columns=['mainroad', 'guestroom', 'basement', 'hotwaterheating', 'airconditioning', 'prefarea', 'furnishingstatus'], drop_first=True, dtype=float)\n",
    "    total_rows = df.shape[0]\n",
    "    train_rows = math.floor(total_rows * 0.9)\n",
    "    training_set = df[:train_rows]\n",
    "    validation_set = df[train_rows:]\n",
    "    print(f\"There are {training_set.shape[0]} training rows and {validation_set.shape[0]} validation rows.\")\n",
    "\n",
    "    x_cols = ['bedrooms', 'bathrooms', 'stories', 'parking', 'mainroad_yes', 'guestroom_yes', 'basement_yes', 'hotwaterheating_yes', 'airconditioning_yes', 'prefarea_yes', 'furnishingstatus_unfurnished', 'furnishingstatus_semi-furnished']\n",
    "    x_tr = None\n",
    "    for x_col in x_cols:\n",
    "        if x_tr is None:\n",
    "            x_tr = training_set[x_col].to_numpy(dtype=float)\n",
    "            x_tr = np.reshape(x_tr, (x_tr.shape[0], 1))\n",
    "        else:\n",
    "            temp = training_set[x_col].to_numpy(dtype=float)\n",
    "            temp = np.reshape(temp, (temp.shape[0], 1))\n",
    "            x_tr = np.append(x_tr, temp, axis=1)\n",
    "\n",
    "    x_tr = Normalization.zscore(x_tr)\n",
    "    z_tr = np.ones((x_tr.shape[0], 1), dtype=float)\n",
    "    x_tr = np.concatenate((z_tr, x_tr), axis=1)\n",
    "    y_tr = training_set['price'].to_numpy(dtype=float)\n",
    "    y_tr = np.reshape(y_tr, (y_tr.shape[0], 1))\n",
    "    x_val = None\n",
    "    for x_col in x_cols:\n",
    "        if x_val is None:\n",
    "            x_val = validation_set[x_col].to_numpy(dtype=float)\n",
    "            x_val = np.reshape(x_val, (x_val.shape[0], 1))\n",
    "        else:\n",
    "            temp = validation_set[x_col].to_numpy(dtype=float)\n",
    "            temp = np.reshape(temp, (temp.shape[0], 1))\n",
    "            x_val = np.append(x_val, temp, axis=1)\n",
    "    x_val = Normalization.zscore(x_val)\n",
    "    z_val = np.ones((x_val.shape[0], 1), dtype=float)\n",
    "    x_val = np.concatenate((z_val, x_val), axis=1)\n",
    "    y_val = validation_set['price'].to_numpy(dtype=float)\n",
    "    y_val = np.reshape(y_val, (y_val.shape[0], 1))\n",
    "    return x_tr, y_tr, x_val, y_val"
   ],
   "id": "1a8f54ea6f4e181a",
   "outputs": [],
   "execution_count": 2
  },
  {
   "metadata": {
    "ExecuteTime": {
     "end_time": "2025-02-06T07:14:53.109905Z",
     "start_time": "2025-02-06T07:14:52.981278Z"
    }
   },
   "cell_type": "code",
   "source": [
    "x_train, y_train, x_validate, y_validate = prepare_data()\n",
    "m, n = x_train.shape\n",
    "\n",
    "model = LinearRegression(0.1, 4000, 3.8)\n",
    "cost_values = model.train_gd(x_train, y_train)\n",
    "print(f\"Model parameters: w = {model.w_final} | Minimum cost value = {model.cost_final:,}\")\n",
    "\n",
    "plt.plot(cost_values, 'b')\n",
    "plt.title(\"Cost vs EPOCHS\")\n",
    "plt.xlabel(\"EPOCH\")\n",
    "plt.ylabel(\"Cost value\")\n",
    "plt.show()"
   ],
   "id": "5127854ec9c32ea2",
   "outputs": [
    {
     "name": "stdout",
     "output_type": "stream",
     "text": [
      "There are 490 training rows and 55 validation rows.\n",
      "Model parameters: w = [[3866033.20629078]\n",
      " [ 198322.85206393]\n",
      " [ 486627.2061353 ]\n",
      " [ 323751.55288055]\n",
      " [ 322339.12899362]\n",
      " [ 233056.38762551]\n",
      " [ 176407.22476348]\n",
      " [ 102492.66255062]\n",
      " [ 130295.96575737]\n",
      " [ 393055.53585966]\n",
      " [ 284709.67406076]\n",
      " [-146119.25485779]\n",
      " [ -56252.62554653]] | Minimum cost value = 3,659,806,604,919.713\n"
     ]
    },
    {
     "data": {
      "text/plain": [
       "<Figure size 640x480 with 1 Axes>"
      ],
      "image/png": "[encoded data removed]"
     },
     "metadata": {},
     "output_type": "display_data"
    }
   ],
   "execution_count": 3
  },
  {
   "metadata": {
    "ExecuteTime": {
     "end_time": "2025-02-06T07:14:53.183840Z",
     "start_time": "2025-02-06T07:14:53.179433Z"
    }
   },
   "cell_type": "code",
   "source": [
    "m_validate, n_validate = x_validate.shape\n",
    "cost_validate = model.validate(x_validate, y_validate)\n",
    "print(f\"The minimum cost obtained from training set is {model.cost_final:,}\")\n",
    "print(f\"The cost value obtained from validation set is {cost_validate:,}.\")\n",
    "\n",
    "if cost_validate > model.cost_final:\n",
    "    percent_increase = ((cost_validate / model.cost_final) * 100) - 100\n",
    "    print(f\"Validation cost is {percent_increase:.2f}% higher than the training cost.\")\n",
    "else:\n",
    "    percent_increase = ((model.cost_final / cost_validate) * 100) - 100\n",
    "    print(f\"Training cost is {percent_increase:.2f}% higher than the validation cost.\")"
   ],
   "id": "7475d59007a3a98a",
   "outputs": [
    {
     "name": "stdout",
     "output_type": "stream",
     "text": [
      "The minimum cost obtained from training set is 3,659,806,604,919.713\n",
      "The cost value obtained from validation set is 3,978,535,627,267.3506.\n",
      "Validation cost is 8.71% higher than the training cost.\n"
     ]
    }
   ],
   "execution_count": 4
  },
  {
   "metadata": {
    "ExecuteTime": {
     "end_time": "2025-02-06T07:14:53.387250Z",
     "start_time": "2025-02-06T07:14:53.384256Z"
    }
   },
   "cell_type": "code",
   "source": [
    "r2_score = model.r2_score(x_validate, y_validate)\n",
    "print(f\"R2 score is {r2_score}.\")"
   ],
   "id": "c32419b128066536",
   "outputs": [
    {
     "name": "stdout",
     "output_type": "stream",
     "text": [
      "R2 score is 1497.1805348173.\n"
     ]
    }
   ],
   "execution_count": 5
  }
 ],
 "metadata": {
  "kernelspec": {
   "name": "python3",
   "language": "python",
   "display_name": "Python 3 (ipykernel)"
  }
 },
 "nbformat": 5,
 "nbformat_minor": 9
}
