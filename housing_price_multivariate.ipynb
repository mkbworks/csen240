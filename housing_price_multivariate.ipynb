{
 "cells": [
  {
   "metadata": {},
   "cell_type": "markdown",
   "source": [
    "### Housing Price Estimation\n",
    "\n",
    "Here, we will train a machine learning model to predict housing price based on the below given features. We will use multivariate linear regression to train the model.\n",
    "- **Feature**: Area of house (measured in square foot), Number of bedrooms, Number of bathrooms, Number of stories in the building, Number of parking spaces.\n",
    "- **Target**: Price of the house (in $)\n",
    "\n",
    "The feature values will be normalized using `z-score normalization`.\n",
    "We will follow the `90-10` rule for segregating the dataset into training and validation sets i.e., 90% of the data will be used for training the model and 10% of the dataset will be used for validating the trained model."
   ],
   "id": "69d668aae932c61a"
  },
  {
   "metadata": {
    "ExecuteTime": {
     "end_time": "2025-02-06T03:27:56.699540Z",
     "start_time": "2025-02-06T03:27:56.691607Z"
    }
   },
   "cell_type": "code",
   "source": [
    "import pandas as pd\n",
    "import math\n",
    "import matplotlib.pyplot as plt\n",
    "import numpy as np\n",
    "from models import LinearRegression\n",
    "from utils import Normalization"
   ],
   "id": "bf0d5d66fe1db12f",
   "outputs": [],
   "execution_count": 26
  },
  {
   "metadata": {},
   "cell_type": "markdown",
   "source": "The `prepare_data()` function fetches the data from the CSV file, transforms feature columns with string values into numbers using `One-Hot encoding`, and then converts them into the input feature matrix.",
   "id": "1f5ee0f82c5c7b01"
  },
  {
   "metadata": {
    "ExecuteTime": {
     "end_time": "2025-02-06T03:27:56.745554Z",
     "start_time": "2025-02-06T03:27:56.739406Z"
    }
   },
   "cell_type": "code",
   "source": [
    "def prepare_data():\n",
    "    df = pd.read_csv('./datasets/housing.csv')\n",
    "\n",
    "    df['mainroad_yes'] = df['mainroad'].map({'yes': 1, 'no': 0})\n",
    "    df['guestroom_yes'] = df['guestroom'].map({'yes': 1, 'no': 0})\n",
    "    df['basement_yes'] = df['basement'].map({'yes': 1, 'no': 0})\n",
    "    df['hotwaterheating_yes'] = df['hotwaterheating'].map({'yes': 1, 'no': 0})\n",
    "    df['airconditioning_yes'] = df['airconditioning'].map({'yes': 1, 'no': 0})\n",
    "    df['prefarea_yes'] = df['prefarea'].map({'yes': 1, 'no': 0})\n",
    "    df['furnished'] = df['furnishingstatus'].map({'furnished': 1, 'semi-furnished': 0, 'unfurnished': 0})\n",
    "    df['semi_furnished'] = df['furnishingstatus'].map({'furnished': 0, 'semi-furnished': 1, 'unfurnished': 0})\n",
    "\n",
    "    total_rows = df.shape[0]\n",
    "    train_rows = math.floor(total_rows * 0.9)\n",
    "    training_set = df[:train_rows]\n",
    "    validation_set = df[train_rows:]\n",
    "    print(f\"There are {training_set.shape[0]} training rows and {validation_set.shape[0]} validation rows.\")\n",
    "\n",
    "    x_cols = ['bedrooms', 'bathrooms', 'stories', 'parking', 'mainroad_yes', 'guestroom_yes', 'basement_yes', 'hotwaterheating_yes', 'airconditioning_yes', 'prefarea_yes', 'furnished', 'semi_furnished']\n",
    "    x_tr = None\n",
    "    for x_col in x_cols:\n",
    "        if x_tr is None:\n",
    "            x_tr = training_set[x_col].to_numpy(dtype=float)\n",
    "            x_tr = np.reshape(x_tr, (x_tr.shape[0], 1))\n",
    "        else:\n",
    "            temp = training_set[x_col].to_numpy(dtype=float)\n",
    "            temp = np.reshape(temp, (temp.shape[0], 1))\n",
    "            x_tr = np.append(x_tr, temp, axis=1)\n",
    "\n",
    "    y_tr = training_set['price'].to_numpy(dtype=float)\n",
    "    y_tr = np.reshape(y_tr, (y_tr.shape[0], 1))\n",
    "    x_val = None\n",
    "    for x_col in x_cols:\n",
    "        if x_val is None:\n",
    "            x_val = validation_set[x_col].to_numpy(dtype=float)\n",
    "            x_val = np.reshape(x_val, (x_val.shape[0], 1))\n",
    "        else:\n",
    "            temp = validation_set[x_col].to_numpy(dtype=float)\n",
    "            temp = np.reshape(temp, (temp.shape[0], 1))\n",
    "            x_val = np.append(x_val, temp, axis=1)\n",
    "    y_val = validation_set['price'].to_numpy(dtype=float)\n",
    "    y_val = np.reshape(y_val, (y_val.shape[0], 1))\n",
    "    return x_tr, y_tr, x_val, y_val"
   ],
   "id": "1a8f54ea6f4e181a",
   "outputs": [],
   "execution_count": 27
  },
  {
   "metadata": {
    "ExecuteTime": {
     "end_time": "2025-02-06T03:27:56.896259Z",
     "start_time": "2025-02-06T03:27:56.749452Z"
    }
   },
   "cell_type": "code",
   "source": [
    "x_train, y_train, x_validate, y_validate = prepare_data()\n",
    "m, n = x_train.shape\n",
    "x_norm = Normalization.zscore(x_train)\n",
    "\n",
    "model = LinearRegression(0.01, 5000, 340)\n",
    "cost_values = model.train_gd(x_norm, y_train)\n",
    "print(f\"Model parameters: w = {model.w_final}, b = {model.b_final} | Minimum cost value = {model.cost_final:,}\")\n",
    "\n",
    "plt.plot(cost_values, 'b')\n",
    "plt.title(\"Cost vs EPOCHS\")\n",
    "plt.xlabel(\"EPOCH\")\n",
    "plt.ylabel(\"Cost value\")\n",
    "plt.show()"
   ],
   "id": "5127854ec9c32ea2",
   "outputs": [
    {
     "name": "stdout",
     "output_type": "stream",
     "text": [
      "There are 490 training rows and 55 validation rows.\n",
      "Model parameters: w = [[153578.63263742]\n",
      " [381959.45747719]\n",
      " [252301.6509599 ]\n",
      " [249583.98138162]\n",
      " [178009.64785831]\n",
      " [136865.80532565]\n",
      " [ 80688.78381559]\n",
      " [102995.49239412]\n",
      " [303264.62877541]\n",
      " [220204.77810525]\n",
      " [118651.02380174]\n",
      " [ 33515.99031252]], b = 4963480.805428165 | Minimum cost value = 8,081,147,179,354.372\n"
     ]
    },
    {
     "data": {
      "text/plain": [
       "<Figure size 640x480 with 1 Axes>"
      ],
      "image/png": "[encoded data removed]"
     },
     "metadata": {},
     "output_type": "display_data"
    }
   ],
   "execution_count": 28
  },
  {
   "metadata": {
    "ExecuteTime": {
     "end_time": "2025-02-06T03:27:56.909726Z",
     "start_time": "2025-02-06T03:27:56.906045Z"
    }
   },
   "cell_type": "code",
   "source": [
    "m_validate, n_validate = x_validate.shape\n",
    "xv_norm = Normalization.zscore(x_validate)\n",
    "\n",
    "cost_validate = model.validate(xv_norm, y_validate)\n",
    "print(f\"The minimum cost obtained from training set is {model.cost_final:,}\")\n",
    "print(f\"The cost value obtained from validation set is {cost_validate:,}.\")\n",
    "\n",
    "if cost_validate > model.cost_final:\n",
    "    percent_increase = ((cost_validate / model.cost_final) * 100) - 100\n",
    "    print(f\"Validation cost is {percent_increase:.2f}% higher than the training cost.\")\n",
    "else:\n",
    "    percent_increase = ((model.cost_final / cost_validate) * 100) - 100\n",
    "    print(f\"Training cost is {percent_increase:.2f}% higher than the validation cost.\")"
   ],
   "id": "7475d59007a3a98a",
   "outputs": [
    {
     "name": "stdout",
     "output_type": "stream",
     "text": [
      "The minimum cost obtained from training set is 8,081,147,179,354.372\n",
      "The cost value obtained from validation set is 11,030,105,610,374.297.\n",
      "Validation cost is 36.49% higher than the training cost.\n"
     ]
    }
   ],
   "execution_count": 29
  }
 ],
 "metadata": {
  "kernelspec": {
   "name": "python3",
   "language": "python",
   "display_name": "Python 3 (ipykernel)"
  }
 },
 "nbformat": 5,
 "nbformat_minor": 9
}
