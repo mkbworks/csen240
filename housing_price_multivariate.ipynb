{
 "cells": [
  {
   "metadata": {},
   "cell_type": "markdown",
   "source": [
    "### Housing Price Estimation\n",
    "\n",
    "Here, we will train a machine learning model to predict housing price based on the below given features. We will use multivariate linear regression to train the model.\n",
    "- **Feature**: Area of house (measured in square foot), Number of bedrooms, Number of bathrooms, Number of stories in the building, Number of parking spaces.\n",
    "- **Target**: Price of the house (in $)\n",
    "\n",
    "The feature values will be normalized using `z-score normalization`.\n",
    "We will follow the `90-10` rule for segregating the dataset into training and validation sets i.e., 90% of the data will be used for training the model and 10% of the dataset will be used for validating the trained model."
   ],
   "id": "69d668aae932c61a"
  },
  {
   "metadata": {
    "ExecuteTime": {
     "end_time": "2025-02-06T00:25:28.418001Z",
     "start_time": "2025-02-06T00:25:28.007886Z"
    }
   },
   "cell_type": "code",
   "source": [
    "import pandas as pd\n",
    "import math\n",
    "import matplotlib.pyplot as plt\n",
    "import numpy as np\n",
    "from models import LinearRegression\n",
    "from utils import Normalization\n",
    "\n",
    "df = pd.read_csv('./datasets/housing.csv')\n",
    "print(df.head())"
   ],
   "id": "bf0d5d66fe1db12f",
   "outputs": [
    {
     "name": "stdout",
     "output_type": "stream",
     "text": [
      "      price  area  bedrooms  bathrooms  stories mainroad guestroom basement  \\\n",
      "0  13300000  7420         4          2        3      yes        no       no   \n",
      "1  12250000  8960         4          4        4      yes        no       no   \n",
      "2  12250000  9960         3          2        2      yes        no      yes   \n",
      "3  12215000  7500         4          2        2      yes        no      yes   \n",
      "4  11410000  7420         4          1        2      yes       yes      yes   \n",
      "\n",
      "  hotwaterheating airconditioning  parking prefarea furnishingstatus  \n",
      "0              no             yes        2      yes        furnished  \n",
      "1              no             yes        3       no        furnished  \n",
      "2              no              no        2      yes   semi-furnished  \n",
      "3              no             yes        3      yes        furnished  \n",
      "4              no             yes        2       no        furnished  \n"
     ]
    }
   ],
   "execution_count": 1
  },
  {
   "metadata": {
    "ExecuteTime": {
     "end_time": "2025-02-06T00:25:28.482907Z",
     "start_time": "2025-02-06T00:25:28.480246Z"
    }
   },
   "cell_type": "code",
   "source": [
    "total_rows = df.shape[0]\n",
    "train_rows = math.ceil(0.9 * total_rows)\n",
    "training_set = df[:train_rows]\n",
    "validation_set = df[train_rows:]\n",
    "print(f\"There are {training_set.shape[0]} row(s) in the training set.\")\n",
    "print(f\"There are {validation_set.shape[0]} row(s) in the validation set.\")"
   ],
   "id": "81311aa5971196f3",
   "outputs": [
    {
     "name": "stdout",
     "output_type": "stream",
     "text": [
      "There are 491 row(s) in the training set.\n",
      "There are 54 row(s) in the validation set.\n"
     ]
    }
   ],
   "execution_count": 2
  },
  {
   "metadata": {
    "ExecuteTime": {
     "end_time": "2025-02-06T00:25:28.554475Z",
     "start_time": "2025-02-06T00:25:28.546622Z"
    }
   },
   "cell_type": "code",
   "source": [
    "x_train = training_set['area'].to_numpy(dtype=float)\n",
    "x_train = np.append(x_train, training_set['bedrooms'].to_numpy(dtype=float))\n",
    "x_train = np.append(x_train, training_set['bathrooms'].to_numpy(dtype=float))\n",
    "x_train = np.append(x_train, training_set['stories'].to_numpy(dtype=float))\n",
    "x_train = np.append(x_train, training_set['parking'].to_numpy(dtype=float))\n",
    "y_train = training_set['price'].to_numpy(dtype=float)\n",
    "m = training_set.shape[0]\n",
    "n = 5\n",
    "x_train = x_train.reshape((m, n))\n",
    "y_train = y_train.reshape((m, 1))\n",
    "x_norm = Normalization.zscore(x_train)"
   ],
   "id": "5127854ec9c32ea2",
   "outputs": [],
   "execution_count": 3
  },
  {
   "metadata": {
    "ExecuteTime": {
     "end_time": "2025-02-06T00:25:28.856297Z",
     "start_time": "2025-02-06T00:25:28.620321Z"
    }
   },
   "cell_type": "code",
   "source": [
    "np.random.seed(20)\n",
    "b = np.random.randn()\n",
    "w = np.random.randn(n, 1)\n",
    "model = LinearRegression(0.01, 10000, 335)\n",
    "cost_values = model.train_gd(x_norm, y_train)\n",
    "print(f\"Model parameters: w = {model.w_final}, b = {model.b_final} | Minimum cost value = {model.cost_final:,}\")\n",
    "\n",
    "plt.plot(cost_values, 'b')\n",
    "plt.title(\"Cost vs EPOCHS\")\n",
    "plt.xlabel(\"EPOCH\")\n",
    "plt.ylabel(\"Cost value\")\n",
    "plt.show()"
   ],
   "id": "1db8473f4c601861",
   "outputs": [
    {
     "name": "stdout",
     "output_type": "stream",
     "text": [
      "Model parameters: w = [[284089.33699595]\n",
      " [266409.61169459]\n",
      " [304633.41020995]\n",
      " [255797.95672267]\n",
      " [267751.73506483]], b = 4984612.445847845 | Minimum cost value = 13,250,409,552,962.406\n"
     ]
    },
    {
     "data": {
      "text/plain": [
       "<Figure size 640x480 with 1 Axes>"
      ],
      "image/png": "[encoded data removed]"
     },
     "metadata": {},
     "output_type": "display_data"
    }
   ],
   "execution_count": 4
  },
  {
   "metadata": {
    "ExecuteTime": {
     "end_time": "2025-02-06T00:25:28.875340Z",
     "start_time": "2025-02-06T00:25:28.870400Z"
    }
   },
   "cell_type": "code",
   "source": [
    "x_validate = validation_set['area'].to_numpy(dtype=float)\n",
    "x_validate = np.append(x_validate, validation_set['bedrooms'].to_numpy(dtype=float))\n",
    "x_validate = np.append(x_validate, validation_set['bathrooms'].to_numpy(dtype=float))\n",
    "x_validate = np.append(x_validate, validation_set['stories'].to_numpy(dtype=float))\n",
    "x_validate = np.append(x_validate, validation_set['parking'].to_numpy(dtype=float))\n",
    "y_validate = validation_set['price'].to_numpy(dtype=float)\n",
    "m_validate = validation_set.shape[0]\n",
    "n_validate = 5\n",
    "x_validate = x_validate.reshape((m_validate, n_validate))\n",
    "y_validate = y_validate.reshape((m_validate, 1))\n",
    "xv_norm = Normalization.zscore(x_validate)\n",
    "\n",
    "cost_validate = model.validate(xv_norm, y_validate)\n",
    "print(f\"The minimum cost obtained from training set is {model.cost_final:,}\")\n",
    "print(f\"The cost value obtained from validation set is {cost_validate:,}.\")\n",
    "\n",
    "if cost_validate > model.cost_final:\n",
    "    percent_increase = ((cost_validate / model.cost_final) * 100) - 100\n",
    "    print(f\"Validation cost is {percent_increase:.2f}% higher than the training cost.\")\n",
    "else:\n",
    "    percent_increase = ((model.cost_final / cost_validate) * 100) - 100\n",
    "    print(f\"Training cost is {percent_increase:.2f}% higher than the validation cost.\")"
   ],
   "id": "7475d59007a3a98a",
   "outputs": [
    {
     "name": "stdout",
     "output_type": "stream",
     "text": [
      "The minimum cost obtained from training set is 13,250,409,552,962.406\n",
      "The cost value obtained from validation set is 16,865,398,631,082.88.\n",
      "Validation cost is 27.28% higher than the training cost.\n"
     ]
    }
   ],
   "execution_count": 5
  }
 ],
 "metadata": {
  "kernelspec": {
   "name": "python3",
   "language": "python",
   "display_name": "Python 3 (ipykernel)"
  }
 },
 "nbformat": 5,
 "nbformat_minor": 9
}
