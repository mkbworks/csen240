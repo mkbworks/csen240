{
 "cells": [
  {
   "metadata": {},
   "cell_type": "markdown",
   "source": [
    "### Housing Price Estimation\n",
    "\n",
    "Here, we will train a machine learning model to predict housing price based on the below given features. We will use multivariate linear regression to train the model.\n",
    "- **Feature**: Area of house (measured in square foot), Number of bedrooms, Number of bathrooms, Number of stories in the building, Number of parking spaces.\n",
    "- **Target**: Price of the house (in $)\n",
    "\n",
    "The feature values will be normalized using `z-score normalization`.\n",
    "We will follow the `90-10` rule for segregating the dataset into training and validation sets i.e., 90% of the data will be used for training the model and 10% of the dataset will be used for validating the trained model."
   ],
   "id": "69d668aae932c61a"
  },
  {
   "metadata": {
    "ExecuteTime": {
     "end_time": "2025-02-10T04:55:12.231891Z",
     "start_time": "2025-02-10T04:55:12.229789Z"
    }
   },
   "cell_type": "code",
   "source": [
    "import pandas as pd\n",
    "import math\n",
    "import matplotlib.pyplot as plt\n",
    "import numpy as np\n",
    "from models import LinearRegression\n",
    "from utils import Normalization"
   ],
   "id": "bf0d5d66fe1db12f",
   "outputs": [],
   "execution_count": 14
  },
  {
   "metadata": {},
   "cell_type": "markdown",
   "source": "The `prepare_data()` function fetches the data from the CSV file, transforms feature columns with string values into numbers using `One-Hot encoding`, and then converts them into the input feature matrix.",
   "id": "1f5ee0f82c5c7b01"
  },
  {
   "metadata": {
    "ExecuteTime": {
     "end_time": "2025-02-10T04:55:12.243749Z",
     "start_time": "2025-02-10T04:55:12.237437Z"
    }
   },
   "cell_type": "code",
   "source": [
    "def prepare_data():\n",
    "    df = pd.read_csv('./datasets/housing.csv')\n",
    "    df = pd.get_dummies(df, columns=['mainroad', 'guestroom', 'basement', 'hotwaterheating', 'airconditioning', 'prefarea', 'furnishingstatus'], drop_first=True, dtype=float)\n",
    "    total_rows = df.shape[0]\n",
    "    train_rows = math.floor(total_rows * 0.9)\n",
    "    training_set = df[:train_rows]\n",
    "    validation_set = df[train_rows:]\n",
    "    print(f\"There are {training_set.shape[0]} training rows and {validation_set.shape[0]} validation rows.\")\n",
    "\n",
    "    x_cols = ['bedrooms', 'bathrooms', 'stories', 'parking', 'mainroad_yes', 'guestroom_yes', 'basement_yes', 'hotwaterheating_yes', 'airconditioning_yes', 'prefarea_yes', 'furnishingstatus_unfurnished', 'furnishingstatus_semi-furnished']\n",
    "    x_tr = None\n",
    "    for x_col in x_cols:\n",
    "        if x_tr is None:\n",
    "            x_tr = training_set[x_col].to_numpy(dtype=float)\n",
    "            x_tr = np.reshape(x_tr, (x_tr.shape[0], 1))\n",
    "        else:\n",
    "            temp = training_set[x_col].to_numpy(dtype=float)\n",
    "            temp = np.reshape(temp, (temp.shape[0], 1))\n",
    "            x_tr = np.append(x_tr, temp, axis=1)\n",
    "\n",
    "    x_tr = Normalization.zscore(x_tr)\n",
    "    z_tr = np.ones((x_tr.shape[0], 1), dtype=float)\n",
    "    x_tr = np.concatenate((z_tr, x_tr), axis=1)\n",
    "    y_tr = training_set['price'].to_numpy(dtype=float)\n",
    "    y_tr = np.reshape(y_tr, (y_tr.shape[0], 1))\n",
    "    x_val = None\n",
    "    for x_col in x_cols:\n",
    "        if x_val is None:\n",
    "            x_val = validation_set[x_col].to_numpy(dtype=float)\n",
    "            x_val = np.reshape(x_val, (x_val.shape[0], 1))\n",
    "        else:\n",
    "            temp = validation_set[x_col].to_numpy(dtype=float)\n",
    "            temp = np.reshape(temp, (temp.shape[0], 1))\n",
    "            x_val = np.append(x_val, temp, axis=1)\n",
    "    x_val = Normalization.zscore(x_val)\n",
    "    z_val = np.ones((x_val.shape[0], 1), dtype=float)\n",
    "    x_val = np.concatenate((z_val, x_val), axis=1)\n",
    "    y_val = validation_set['price'].to_numpy(dtype=float)\n",
    "    y_val = np.reshape(y_val, (y_val.shape[0], 1))\n",
    "    return x_tr, y_tr, x_val, y_val"
   ],
   "id": "1a8f54ea6f4e181a",
   "outputs": [],
   "execution_count": 15
  },
  {
   "metadata": {
    "ExecuteTime": {
     "end_time": "2025-02-10T04:55:12.433383Z",
     "start_time": "2025-02-10T04:55:12.254459Z"
    }
   },
   "cell_type": "code",
   "source": [
    "x_train, y_train, x_validate, y_validate = prepare_data()\n",
    "m, n = x_train.shape\n",
    "\n",
    "model = LinearRegression(0.1, 8000, 1.2)\n",
    "cost_values = model.train_gd(x_train, y_train)\n",
    "print(f\"Model parameters: w = {model.w_final} | Minimum cost value = {model.cost_final:,}\")\n",
    "\n",
    "plt.plot(cost_values, 'b')\n",
    "plt.title(\"Cost vs EPOCHS\")\n",
    "plt.xlabel(\"EPOCH\")\n",
    "plt.ylabel(\"Cost value\")\n",
    "plt.show()"
   ],
   "id": "5127854ec9c32ea2",
   "outputs": [
    {
     "name": "stdout",
     "output_type": "stream",
     "text": [
      "There are 490 training rows and 55 validation rows.\n",
      "Model parameters: w = [[4623529.57735815]\n",
      " [ 162330.98408894]\n",
      " [ 536166.11121966]\n",
      " [ 334496.05681645]\n",
      " [ 344291.82532321]\n",
      " [ 239017.22921544]\n",
      " [ 172058.02652306]\n",
      " [ 103352.58192247]\n",
      " [ 157605.06652188]\n",
      " [ 426076.01125495]\n",
      " [ 314662.56441072]\n",
      " [-154693.43335806]\n",
      " [ -70486.24734562]] | Minimum cost value = 1,776,088,634,173.921\n"
     ]
    },
    {
     "data": {
      "text/plain": [
       "<Figure size 640x480 with 1 Axes>"
      ],
      "image/png": "[encoded data removed]"
     },
     "metadata": {},
     "output_type": "display_data"
    }
   ],
   "execution_count": 16
  },
  {
   "metadata": {
    "ExecuteTime": {
     "end_time": "2025-02-10T04:55:12.499369Z",
     "start_time": "2025-02-10T04:55:12.496983Z"
    }
   },
   "cell_type": "code",
   "source": [
    "r2_score = model.r2_score(x_train, y_train)\n",
    "print(f\"R2 score for training set is {r2_score}.\")\n",
    "r2_score_val = model.r2_score(x_validate, y_validate)\n",
    "print(f\"R2 score for validation set is {r2_score_val}.\")"
   ],
   "id": "c32419b128066536",
   "outputs": [
    {
     "name": "stdout",
     "output_type": "stream",
     "text": [
      "R2 score for training set is 0.5298520602305488.\n",
      "R2 score for validation set is -64.26671373863361.\n"
     ]
    }
   ],
   "execution_count": 17
  }
 ],
 "metadata": {
  "kernelspec": {
   "name": "python3",
   "language": "python",
   "display_name": "Python 3 (ipykernel)"
  }
 },
 "nbformat": 5,
 "nbformat_minor": 9
}
